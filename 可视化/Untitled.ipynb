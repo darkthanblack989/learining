{
 "cells": [
  {
   "cell_type": "code",
   "execution_count": 1,
   "id": "386d156d",
   "metadata": {},
   "outputs": [
    {
     "name": "stdout",
     "output_type": "stream",
     "text": [
      "w1: [1 3 5 7]\n"
     ]
    }
   ],
   "source": [
    "import numpy as np\n",
    "data1 = [1,3,5,7]\n",
    "w1 = np.array(data1)\n",
    "print('w1:',w1)"
   ]
  },
  {
   "cell_type": "code",
   "execution_count": 2,
   "id": "2c3735de",
   "metadata": {},
   "outputs": [
    {
     "name": "stdout",
     "output_type": "stream",
     "text": [
      "[0 1 2 3 4 5 6 7 8 9]\n",
      "[0.  0.2 0.4 0.6 0.8]\n"
     ]
    }
   ],
   "source": [
    "array_a = np.arange(10)\n",
    "print(array_a)\n",
    "array_b = np.arange(0,1,0.2)\n",
    "print(array_b)"
   ]
  },
  {
   "cell_type": "code",
   "execution_count": 3,
   "id": "c1250864",
   "metadata": {},
   "outputs": [
    {
     "name": "stdout",
     "output_type": "stream",
     "text": [
      "等差一维数组： [0.   0.25 0.5  0.75 1.  ]\n"
     ]
    }
   ],
   "source": [
    "array_c = np.linspace(0,1,5)\n",
    "print(\"等差一维数组:\", array_c)"
   ]
  },
  {
   "cell_type": "code",
   "execution_count": 4,
   "id": "500a243f",
   "metadata": {},
   "outputs": [
    {
     "name": "stdout",
     "output_type": "stream",
     "text": [
      "等比一维数组: [ 1.          1.77827941  3.16227766  5.62341325 10.        ]\n"
     ]
    }
   ],
   "source": [
    "array_d = np.logspace(0,1,5)\n",
    "print(\"等比一维数组:\",array_d)"
   ]
  },
  {
   "cell_type": "code",
   "execution_count": 6,
   "id": "bf194795",
   "metadata": {},
   "outputs": [
    {
     "name": "stdout",
     "output_type": "stream",
     "text": [
      "[[1 0 0 0]\n",
      " [0 2 0 0]\n",
      " [0 0 3 0]\n",
      " [0 0 0 4]]\n",
      "[[0 1 0 0 0]\n",
      " [0 0 2 0 0]\n",
      " [0 0 0 3 0]\n",
      " [0 0 0 0 4]\n",
      " [0 0 0 0 0]]\n",
      "[[0 0 0 0 0]\n",
      " [1 0 0 0 0]\n",
      " [0 2 0 0 0]\n",
      " [0 0 3 0 0]\n",
      " [0 0 0 4 0]]\n"
     ]
    }
   ],
   "source": [
    "array_i = np.diag([1,2,3,4],k=0)\n",
    "print(array_i)\n",
    "array_j = np.diag([1,2,3,4],k=1)\n",
    "print(array_j)\n",
    "array_k = np.diag([1,2,3,4],k=-1)\n",
    "print(array_k)"
   ]
  },
  {
   "cell_type": "code",
   "execution_count": 7,
   "id": "a208313c",
   "metadata": {},
   "outputs": [
    {
     "name": "stdout",
     "output_type": "stream",
     "text": [
      "[[156 100 113 120]\n",
      " [145 111 156 131]]\n"
     ]
    }
   ],
   "source": [
    "arr = np.random.randint(100, 200, size = (2,4))\n",
    "print(arr)"
   ]
  },
  {
   "cell_type": "code",
   "execution_count": 8,
   "id": "107e349d",
   "metadata": {},
   "outputs": [
    {
     "name": "stdout",
     "output_type": "stream",
     "text": [
      "[0.71570914 0.7108893  0.35814731 0.01012743 0.87281304]\n",
      "[[0.11333713 0.99391985]\n",
      " [0.90895128 0.16360599]\n",
      " [0.37936144 0.59573996]\n",
      " [0.90263144 0.68775953]]\n"
     ]
    }
   ],
   "source": [
    "arr1 = np.random.rand(5)\n",
    "print(arr1)\n",
    "arr1 = np.random.rand(4,2)\n",
    "print(arr1)"
   ]
  },
  {
   "cell_type": "code",
   "execution_count": 13,
   "id": "c404d729",
   "metadata": {},
   "outputs": [],
   "source": [
    "np.random.seed(100)"
   ]
  },
  {
   "cell_type": "code",
   "execution_count": 14,
   "id": "8f6f5e4f",
   "metadata": {},
   "outputs": [
    {
     "data": {
      "text/plain": [
       "array([[0.54340494, 0.27836939],\n",
       "       [0.42451759, 0.84477613]])"
      ]
     },
     "execution_count": 14,
     "metadata": {},
     "output_type": "execute_result"
    }
   ],
   "source": [
    "np.random.rand(2,2)"
   ]
  },
  {
   "cell_type": "code",
   "execution_count": 15,
   "id": "bc8a77ca",
   "metadata": {},
   "outputs": [
    {
     "name": "stdout",
     "output_type": "stream",
     "text": [
      "[[0 1 2 3]\n",
      " [1 2 4 1]]\n"
     ]
    }
   ],
   "source": [
    "arr1 = np.random.binomial(10,0.2,(2,4))\n",
    "print(arr1)"
   ]
  },
  {
   "cell_type": "code",
   "execution_count": 17,
   "id": "36a63c49",
   "metadata": {},
   "outputs": [
    {
     "name": "stdout",
     "output_type": "stream",
     "text": [
      "arr1: [ 0  1  2  3  4  5  6  7  8  9 10 11]\n",
      "arr2: [[ 0  1  2  3]\n",
      " [ 4  5  6  7]\n",
      " [ 8  9 10 11]]\n"
     ]
    }
   ],
   "source": [
    "arr1 = np.arange(12)\n",
    "print(\"arr1:\",arr1)\n",
    "arr2 = arr1.reshape(3,4)\n",
    "print(\"arr2:\",arr2)"
   ]
  },
  {
   "cell_type": "code",
   "execution_count": 18,
   "id": "2c5b8c51",
   "metadata": {},
   "outputs": [
    {
     "name": "stdout",
     "output_type": "stream",
     "text": [
      "arr3: [[ 0  1  2  3  4  5]\n",
      " [ 6  7  8  9 10 11]]\n"
     ]
    }
   ],
   "source": [
    "arr3 = arr1.reshape(2,-1)\n",
    "print(\"arr3:\",arr3)"
   ]
  },
  {
   "cell_type": "code",
   "execution_count": 20,
   "id": "9d080128",
   "metadata": {},
   "outputs": [
    {
     "name": "stdout",
     "output_type": "stream",
     "text": [
      "[[ 0  1  0  2]\n",
      " [ 2  3  4  6]\n",
      " [ 4  5  8 10]]\n"
     ]
    }
   ],
   "source": [
    "arr1 = np.arange(6).reshape(3,2)\n",
    "arr2 = arr1*2\n",
    "arr3 = np.hstack((arr1,arr2))\n",
    "print(arr3)"
   ]
  },
  {
   "cell_type": "code",
   "execution_count": 21,
   "id": "92a7ea7b",
   "metadata": {},
   "outputs": [
    {
     "name": "stdout",
     "output_type": "stream",
     "text": [
      "[[ 0  1]\n",
      " [ 2  3]\n",
      " [ 4  5]\n",
      " [ 0  2]\n",
      " [ 4  6]\n",
      " [ 8 10]]\n"
     ]
    }
   ],
   "source": [
    "arr4 = np.vstack((arr1,arr2))\n",
    "print(arr4)"
   ]
  },
  {
   "cell_type": "code",
   "execution_count": 24,
   "id": "e4bea7cc",
   "metadata": {},
   "outputs": [
    {
     "name": "stdout",
     "output_type": "stream",
     "text": [
      "矩阵: [[0 1]\n",
      " [2 3]\n",
      " [4 5]]\n",
      "转置矩阵: [[0 2 4]\n",
      " [1 3 5]]\n"
     ]
    }
   ],
   "source": [
    "arr1 = np.arange(6).reshape(3,2)\n",
    "print(\"矩阵:\\n\",arr1)\n",
    "arr2 = arr1.T\n",
    "print(\"转置矩阵:\\n\",arr2)"
   ]
  },
  {
   "cell_type": "code",
   "execution_count": 25,
   "id": "8a88d913",
   "metadata": {},
   "outputs": [
    {
     "name": "stdout",
     "output_type": "stream",
     "text": [
      "arr1:\n",
      " [[0 0 0]\n",
      " [1 1 1]\n",
      " [2 2 2]]\n",
      "arr2:\n",
      " [1 2 3]\n",
      "广播法则之后的结果:\n",
      " [[1 2 3]\n",
      " [2 3 4]\n",
      " [3 4 5]]\n"
     ]
    }
   ],
   "source": [
    "arr1 = np.array([[0,0,0],[1,1,1],[2,2,2]])\n",
    "print(\"arr1:\\n\",arr1)\n",
    "arr2 = np.array([1,2,3])\n",
    "print(\"arr2:\\n\",arr2)\n",
    "arr3 = arr1 + arr2\n",
    "print(\"广播法则之后的结果:\\n\",arr3)"
   ]
  },
  {
   "cell_type": "code",
   "execution_count": 27,
   "id": "28660c9a",
   "metadata": {},
   "outputs": [
    {
     "data": {
      "text/plain": [
       "[1, 4, 5, 8]"
      ]
     },
     "execution_count": 27,
     "metadata": {},
     "output_type": "execute_result"
    }
   ],
   "source": [
    "arr1 = np.array([1,3,5,7])\n",
    "arr2 = np.array([2,4,6,8])\n",
    "arr3 = np.array([True,False,True,False])\n",
    "result = [(x if z else y) for x,y,z in zip(arr1,arr2,arr3)]\n",
    "result"
   ]
  },
  {
   "cell_type": "code",
   "execution_count": 28,
   "id": "f4f0af7f",
   "metadata": {},
   "outputs": [
    {
     "data": {
      "text/plain": [
       "array([[1, 8],\n",
       "       [3, 4]])"
      ]
     },
     "execution_count": 28,
     "metadata": {},
     "output_type": "execute_result"
    }
   ],
   "source": [
    "np.where([[True,False],[True,True]],[[1,2],[3,4]],[[9,8],[7,6]])"
   ]
  },
  {
   "cell_type": "code",
   "execution_count": null,
   "id": "00ecffbf",
   "metadata": {},
   "outputs": [],
   "source": []
  }
 ],
 "metadata": {
  "kernelspec": {
   "display_name": "test",
   "language": "python",
   "name": "test"
  },
  "language_info": {
   "codemirror_mode": {
    "name": "ipython",
    "version": 3
   },
   "file_extension": ".py",
   "mimetype": "text/x-python",
   "name": "python",
   "nbconvert_exporter": "python",
   "pygments_lexer": "ipython3",
   "version": "3.8.19"
  }
 },
 "nbformat": 4,
 "nbformat_minor": 5
}
