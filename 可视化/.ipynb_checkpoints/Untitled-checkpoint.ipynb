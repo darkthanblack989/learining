{
 "cells": [
  {
   "cell_type": "markdown",
   "id": "49ea255a",
   "metadata": {},
   "source": [
    "# 变量和赋值"
   ]
  },
  {
   "cell_type": "code",
   "execution_count": 1,
   "id": "4c38f7c3",
   "metadata": {
    "scrolled": true
   },
   "outputs": [
    {
     "name": "stdout",
     "output_type": "stream",
     "text": [
      "browser\n"
     ]
    }
   ],
   "source": [
    "browser = \"Google\"\n",
    "print('browser')"
   ]
  },
  {
   "cell_type": "code",
   "execution_count": 2,
   "id": "5ac2f3da",
   "metadata": {
    "scrolled": false
   },
   "outputs": [
    {
     "data": {
      "text/plain": [
       "True"
      ]
     },
     "execution_count": 2,
     "metadata": {},
     "output_type": "execute_result"
    }
   ],
   "source": [
    "2<3"
   ]
  },
  {
   "cell_type": "markdown",
   "id": "36d75780",
   "metadata": {},
   "source": [
    "# 字符串"
   ]
  },
  {
   "cell_type": "code",
   "execution_count": 3,
   "id": "de122d96",
   "metadata": {},
   "outputs": [
    {
     "name": "stdout",
     "output_type": "stream",
     "text": [
      "python\n",
      "program\n"
     ]
    }
   ],
   "source": [
    "print(\"python\\nprogram\")"
   ]
  },
  {
   "cell_type": "code",
   "execution_count": 4,
   "id": "aab71c5c",
   "metadata": {},
   "outputs": [
    {
     "name": "stdout",
     "output_type": "stream",
     "text": [
      "请输入一个整数： -3\n",
      "3\n"
     ]
    }
   ],
   "source": [
    "a = int(input(\"请输入一个整数： \"))\n",
    "if a>0:\n",
    "    print(a)\n",
    "else:\n",
    "    print(-a)    "
   ]
  }
 ],
 "metadata": {
  "kernelspec": {
   "display_name": "Python 3 (ipykernel)",
   "language": "python",
   "name": "python3"
  },
  "language_info": {
   "codemirror_mode": {
    "name": "ipython",
    "version": 3
   },
   "file_extension": ".py",
   "mimetype": "text/x-python",
   "name": "python",
   "nbconvert_exporter": "python",
   "pygments_lexer": "ipython3",
   "version": "3.11.5"
  }
 },
 "nbformat": 4,
 "nbformat_minor": 5
}
